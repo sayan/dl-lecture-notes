{
 "cells": [
  {
   "cell_type": "raw",
   "metadata": {
    "vscode": {
     "languageId": "raw"
    }
   },
   "source": [
    "---\n",
    "title: \"Gradient Descent\"\n",
    "date: \"14-Jun-2024\"\n",
    "---"
   ]
  },
  {
   "cell_type": "markdown",
   "metadata": {},
   "source": [
    "Our problem setup\n",
    "- We predict our $ \\hat{y} = \\sigma(w^t x + b) $. Defining $z = w^t x + b$, $ \\hat{y} = \\sigma(z) $\n",
    "- Our Cost function is $J(w,b) = \\frac{1}{m}\\sum_{i=1}^{m}L(y^{i},\\hat{y}^i)$\n",
    "\n",
    "We need to minimise\n",
    "$ J(w,b) = -\\frac{1}{m} \\sum_{i=1}^{m} [y^i \\log(\\hat{y}^i) + (1 - y^i) \\log(1 - \\hat{y}^i)] $\n"
   ]
  },
  {
   "cell_type": "markdown",
   "metadata": {},
   "source": [
    "**A quick proof that our loss is convex**"
   ]
  },
  {
   "cell_type": "markdown",
   "metadata": {},
   "source": []
  }
 ],
 "metadata": {
  "kernelspec": {
   "display_name": "dl_lecture_notes",
   "language": "python",
   "name": "python3"
  },
  "language_info": {
   "codemirror_mode": {
    "name": "ipython",
    "version": 3
   },
   "file_extension": ".py",
   "mimetype": "text/x-python",
   "name": "python",
   "nbconvert_exporter": "python",
   "pygments_lexer": "ipython3",
   "version": "3.12.3"
  }
 },
 "nbformat": 4,
 "nbformat_minor": 2
}
